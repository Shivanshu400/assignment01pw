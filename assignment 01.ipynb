{
 "cells": [
  {
   "cell_type": "code",
   "execution_count": 2,
   "id": "15aeeccc",
   "metadata": {},
   "outputs": [],
   "source": [
    "\n",
    "#Declare two variables, `x` and `y`, and assign them integer values. Swap the\n",
    "#values of these variables without using any temporary variable.\n",
    "\n"
   ]
  },
  {
   "cell_type": "code",
   "execution_count": 1,
   "id": "3987a0d0",
   "metadata": {},
   "outputs": [
    {
     "name": "stdout",
     "output_type": "stream",
     "text": [
      "6\n",
      "5\n",
      "6 5\n",
      "5 6\n"
     ]
    }
   ],
   "source": [
    "x=int(input())\n",
    "y=int(input())\n",
    "print(x,y)\n",
    "x=x+y\n",
    "y=x-y\n",
    "x=x-y\n",
    "print(x,y)\n"
   ]
  },
  {
   "cell_type": "code",
   "execution_count": null,
   "id": "9825f40e",
   "metadata": {},
   "outputs": [],
   "source": [
    "#Create a program that calculates the area of a rectangle. Take the length and\n",
    "#width as inputs from the user and store them in variables. Calculate and\n",
    "#display the area."
   ]
  },
  {
   "cell_type": "code",
   "execution_count": 4,
   "id": "715e6241",
   "metadata": {},
   "outputs": [
    {
     "name": "stdout",
     "output_type": "stream",
     "text": [
      "Enter the length of rectangle\n",
      "6\n",
      "Enter the width of rectangle\n",
      "4\n",
      "The length is 6 and width is 4\n",
      "Area = 6*4 = 24\n"
     ]
    }
   ],
   "source": [
    "l=int(input(\"Enter the length of rectangle\\n\"))\n",
    "w=int(input(\"Enter the width of rectangle\\n\"))\n",
    "print(f\"The length is {l} and width is {w}\")\n",
    "print(f\"Area = {l}*{w} =\",l*w)"
   ]
  },
  {
   "cell_type": "code",
   "execution_count": null,
   "id": "e53ef372",
   "metadata": {},
   "outputs": [],
   "source": [
    "#Write a Python program that converts temperatures from Celsius to\n",
    "#Fahrenheit. Take the temperature in Celsius as input, store it in a variable,\n",
    "#convert it to Fahrenheit, and display the result."
   ]
  },
  {
   "cell_type": "code",
   "execution_count": 5,
   "id": "186647f3",
   "metadata": {},
   "outputs": [
    {
     "name": "stdout",
     "output_type": "stream",
     "text": [
      "Enter the celcius temprature120\n",
      "The value of farenheit at 120 celsius is = 248.0\n"
     ]
    }
   ],
   "source": [
    "celsius_tem=int (input(\"Enter the celcius temprature\"))\n",
    "farenheit=celsius_tem*(9/5)+32\n",
    "print(f\"The value of farenheit at {celsius_tem} celsius is =\",farenheit)\n"
   ]
  },
  {
   "cell_type": "code",
   "execution_count": 7,
   "id": "b61f6045",
   "metadata": {},
   "outputs": [
    {
     "name": "stdout",
     "output_type": "stream",
     "text": [
      "Enter your stringshivanshu\n",
      "9\n"
     ]
    }
   ],
   "source": [
    "#Write a Python program that takes a string as input and prints the length of\n",
    "#the string.\n",
    "string=str(input(\"Enter your string\"))\n",
    "print(len(string))"
   ]
  },
  {
   "cell_type": "code",
   "execution_count": null,
   "id": "b5b25a80",
   "metadata": {},
   "outputs": [],
   "source": [
    "#Create a program that takes a sentence from the user and counts the number\n",
    "#of vowels (a, e, i, o, u) in the string."
   ]
  },
  {
   "cell_type": "code",
   "execution_count": 11,
   "id": "928a05a2",
   "metadata": {},
   "outputs": [
    {
     "name": "stdout",
     "output_type": "stream",
     "text": [
      "Enter your sentenceprl\n",
      "There is no any vowel belongs to the sentence\n"
     ]
    }
   ],
   "source": [
    "sentence=str(input(\"Enter your sentence\"))\n",
    "list=[\"A\",\"E\",\"I\",\"O\",\"U\",\"a\",\"e\",\"i\",\"o\",\"u\"]\n",
    "count=0\n",
    "for i in sentence:\n",
    "    if i in list:\n",
    "        count=count+1\n",
    "if count:\n",
    "  print(\"The number of vowel in sentence is \",count)\n",
    "if count==0:\n",
    "    print(\"There is no any vowel belongs to the sentence\")\n"
   ]
  },
  {
   "cell_type": "code",
   "execution_count": 21,
   "id": "410eddd3",
   "metadata": {},
   "outputs": [],
   "source": [
    "#Given a string, reverse the order of characters using string slicing and print\n",
    "#the reversed string.\n"
   ]
  },
  {
   "cell_type": "code",
   "execution_count": 27,
   "id": "2b300fcb",
   "metadata": {},
   "outputs": [
    {
     "name": "stdout",
     "output_type": "stream",
     "text": [
      "Enter your sentencepriya\n",
      "ayirp\n"
     ]
    }
   ],
   "source": [
    "string=str(input(\"Enter your sentence\"))\n",
    "print(string[-1::-1])"
   ]
  },
  {
   "cell_type": "code",
   "execution_count": 30,
   "id": "10036af0",
   "metadata": {},
   "outputs": [
    {
     "name": "stdout",
     "output_type": "stream",
     "text": [
      "Enter your sentence121\n",
      "Given string is pallindrome\n"
     ]
    }
   ],
   "source": [
    "#Write a program that takes a string as input and checks if it is a palindrome\n",
    "#(reads the same forwards and backwards).\n",
    "string=str(input(\"Enter your sentence\"))\n",
    "reverse=string[-1::-1]\n",
    "if reverse==string:\n",
    "    print(\"Given string is pallindrome\")\n",
    "else:\n",
    "    print(\"Not the pallindrome\")\n"
   ]
  },
  {
   "cell_type": "code",
   "execution_count": null,
   "id": "c329d6d7",
   "metadata": {},
   "outputs": [],
   "source": [
    "#Create a program that takes a string as input and removes all the spaces from\n",
    "#it. Print the modified string without spaces."
   ]
  },
  {
   "cell_type": "code",
   "execution_count": 7,
   "id": "fe7e13fb",
   "metadata": {},
   "outputs": [
    {
     "name": "stdout",
     "output_type": "stream",
     "text": [
      "Enter the stringshivanshu is not a good boy\n",
      "shivanshuisnotagoodboy\n"
     ]
    }
   ],
   "source": [
    "string=str(input(\"Enter the string\"))\n",
    "list=[]\n",
    "str1=\"\"\n",
    "for i  in string:\n",
    "    if i==\" \":\n",
    "        continue\n",
    "    else:\n",
    "     list.append(i)\n",
    "for j in list:\n",
    "    str1=str1+j\n",
    "print(str1)"
   ]
  },
  {
   "cell_type": "code",
   "execution_count": null,
   "id": "e40bbc4b",
   "metadata": {},
   "outputs": [],
   "source": []
  },
  {
   "cell_type": "code",
   "execution_count": null,
   "id": "9d37a171",
   "metadata": {},
   "outputs": [],
   "source": []
  }
 ],
 "metadata": {
  "kernelspec": {
   "display_name": "Python 3 (ipykernel)",
   "language": "python",
   "name": "python3"
  },
  "language_info": {
   "codemirror_mode": {
    "name": "ipython",
    "version": 3
   },
   "file_extension": ".py",
   "mimetype": "text/x-python",
   "name": "python",
   "nbconvert_exporter": "python",
   "pygments_lexer": "ipython3",
   "version": "3.11.4"
  }
 },
 "nbformat": 4,
 "nbformat_minor": 5
}
